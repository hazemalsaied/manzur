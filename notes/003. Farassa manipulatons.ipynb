{
 "cells": [
  {
   "cell_type": "code",
   "execution_count": 1,
   "id": "thorough-hungarian",
   "metadata": {},
   "outputs": [
    {
     "name": "stdout",
     "output_type": "stream",
     "text": [
      "Requirement already satisfied: farasapy in /usr/local/lib/python3.9/site-packages (0.0.12)\n",
      "Requirement already satisfied: requests in /usr/local/lib/python3.9/site-packages (from farasapy) (2.25.1)\n",
      "Requirement already satisfied: tqdm in /usr/local/lib/python3.9/site-packages (from farasapy) (4.57.0)\n",
      "Requirement already satisfied: certifi>=2017.4.17 in /usr/local/lib/python3.9/site-packages (from requests->farasapy) (2020.12.5)\n",
      "Requirement already satisfied: idna<3,>=2.5 in /usr/local/lib/python3.9/site-packages (from requests->farasapy) (2.10)\n",
      "Requirement already satisfied: chardet<5,>=3.0.2 in /usr/local/lib/python3.9/site-packages (from requests->farasapy) (4.0.0)\n",
      "Requirement already satisfied: urllib3<1.27,>=1.21.1 in /usr/local/lib/python3.9/site-packages (from requests->farasapy) (1.26.3)\n"
     ]
    }
   ],
   "source": [
    "! pip install farasapy"
   ]
  },
  {
   "cell_type": "code",
   "execution_count": 9,
   "id": "single-latin",
   "metadata": {},
   "outputs": [
    {
     "name": "stdout",
     "output_type": "stream",
     "text": [
      "Requirement already satisfied: requests in /usr/local/lib/python3.9/site-packages (2.25.1)\n",
      "Requirement already satisfied: chardet<5,>=3.0.2 in /usr/local/lib/python3.9/site-packages (from requests) (4.0.0)\n",
      "Requirement already satisfied: idna<3,>=2.5 in /usr/local/lib/python3.9/site-packages (from requests) (2.10)\n",
      "Requirement already satisfied: certifi>=2017.4.17 in /usr/local/lib/python3.9/site-packages (from requests) (2020.12.5)\n",
      "Requirement already satisfied: urllib3<1.27,>=1.21.1 in /usr/local/lib/python3.9/site-packages (from requests) (1.26.3)\n"
     ]
    }
   ],
   "source": [
    "! pip install requests"
   ]
  },
  {
   "cell_type": "code",
   "execution_count": null,
   "id": "unnecessary-statistics",
   "metadata": {},
   "outputs": [],
   "source": [
    "import json\n",
    "import requests\n",
    "url = 'https://farasa.qcri.org/webapi/segmentation/'\n",
    "text = 'يُشار إلى أن اللغة العربية' \n",
    "api_key = 'sHjnqGXGGNdyLianPJ'\n",
    "payload = {'text': text, 'api_key': api_key}\n",
    "headers = {'content-type': 'application/json'} \n",
    "response = requests.post(url, data=json.dumps(payload), headers=headers)\n",
    "result = data.text\n",
    "print(result) "
   ]
  },
  {
   "cell_type": "code",
   "execution_count": 2,
   "id": "popular-cache",
   "metadata": {},
   "outputs": [],
   "source": [
    "from farasa.pos import FarasaPOSTagger \n",
    "from farasa.ner import FarasaNamedEntityRecognizer \n",
    "from farasa.diacratizer import FarasaDiacritizer \n",
    "from farasa.segmenter import FarasaSegmenter \n",
    "from farasa.stemmer import FarasaStemmer"
   ]
  },
  {
   "cell_type": "code",
   "execution_count": 3,
   "id": "patent-dining",
   "metadata": {},
   "outputs": [
    {
     "name": "stdout",
     "output_type": "stream",
     "text": [
      "أشار إلى أن لغة عربي تحدث أكثر من 422 مليون نسمة توزع متحدثوها\n",
      "في منطقة معروف اسم وطن عربي إضافة إلى عديد من منطقة ال\n",
      "آخر مجاور مثل أهواز تركيا تشاد سنغال أريتريا غير . هي لغ\n",
      "رابع من لغة منظمة أمة متحد رسمي ست .\n"
     ]
    }
   ],
   "source": [
    "stemmer = FarasaStemmer()\n",
    "\n",
    "sample = ''' \n",
    "يُشار إلى أن اللغة العربية يتحدثها أكثر من 422 مليون نسمة ويتوزع متحدثوها\n",
    " في المنطقة المعروفة باسم الوطن العربي بالإضافة إلى العديد من المناطق ال\n",
    "أخرى المجاورة مثل الأهواز وتركيا وتشاد والسنغال وإريتريا وغيرها.وهي اللغ\n",
    "ة الرابعة من لغات منظمة الأمم المتحدة الرسمية الست. \n",
    "'''\n",
    "stemmed_text = stemmer.stem(sample)                                     \n",
    "print(stemmed_text)\n"
   ]
  },
  {
   "cell_type": "code",
   "execution_count": 4,
   "id": "synthetic-republican",
   "metadata": {},
   "outputs": [],
   "source": [
    "postagger = FarasaPOSTagger()"
   ]
  },
  {
   "cell_type": "code",
   "execution_count": 5,
   "id": "practical-cream",
   "metadata": {},
   "outputs": [
    {
     "data": {
      "text/plain": [
       "'S/S يشار/V إلى/PREP أن/PART ال+ لغ +ة/DET+NOUN+NSUFF-FS ال+ عربي +ة/DET+ADJ+NSUFF-FS يتحدث/V +ها/PRON أكثر/ADJ-MS من/PREP 422/NUM-MP مليون/NUM-MS نسم +ة/NOUN+NSUFF-FS و+/CONJ يتوزع/V متحدثوها/NOUN-MS E/E \\nS/S في/PREP ال+ منطق +ة/DET+NOUN+NSUFF-FS ال+ معروف +ة/DET+ADJ+NSUFF-FP باسم/NOUN-MS ال+ وطن/DET+NOUN-MS ال+ عربي/DET+ADJ-MS ب+/PREP ال+ إضاف +ة/DET+NOUN+NSUFF-FS إلى/PREP ال+ عديد/DET+NOUN-MS من/PREP ال+ مناطق/DET+NOUN-MS ال/DET E/E \\nS/S أخرى/NOUN-MS ال+ مجاور +ة/DET+ADJ+NSUFF-FD مثل/NOUN-MS ال+ أهواز/DET+NOUN-MS و+/CONJ تركيا/NOUN-MS و+/CONJ تشاد/NOUN-MS و+/CONJ ال+ سنغال/DET+NOUN-MS و+/CONJ إريتريا/NOUN-MS و+/CONJ غير/NOUN-MS +ها/PRON ./PUNC و+/CONJ هي/PRON ال+ لغ/DET+NOUN-MS E/E \\nS/S ة/NOUN-MS ال+ رابع +ة/DET+ADJ+NSUFF-FP من/PREP لغ +ات/NOUN+NSUFF-FP منظم +ة/NOUN+NSUFF-FS ال+ أمم/DET+NOUN-MS ال+ متحد +ة/DET+ADJ+NSUFF-FP ال+ رسمي +ة/DET+ADJ+NSUFF-FD ال+ ست/DET+NOUN-MS ./PUNC E/E'"
      ]
     },
     "execution_count": 5,
     "metadata": {},
     "output_type": "execute_result"
    }
   ],
   "source": [
    "postagged_text = postagger.tag(sample)                                     \n",
    "postagged_text"
   ]
  },
  {
   "cell_type": "code",
   "execution_count": 6,
   "id": "advisory-south",
   "metadata": {},
   "outputs": [
    {
     "name": "stdout",
     "output_type": "stream",
     "text": [
      "[('S', 'S'), ('يشار', 'V'), ('إلى', 'PREP'), ('أن', 'PART'), ('ال', 'DET'), (' لغ ', 'NOUN'), ('ة', 'NSUFF-FS'), ('ال', 'DET'), (' عربي ', 'ADJ'), ('ة', 'NSUFF-FS'), ('يتحدث', 'V'), ('ها', 'PRON'), ('أكثر', 'ADJ-MS'), ('من', 'PREP'), ('422', 'NUM-MP'), ('مليون', 'NUM-MS'), ('نسم ', 'NOUN'), ('ة', 'NSUFF-FS'), ('و', 'CONJ'), ('يتوزع', 'V'), ('متحدثوها', 'NOUN-MS'), ('E', 'E')]\n",
      "[('S', 'S'), ('في', 'PREP'), ('ال', 'DET'), (' منطق ', 'NOUN'), ('ة', 'NSUFF-FS'), ('ال', 'DET'), (' معروف ', 'ADJ'), ('ة', 'NSUFF-FP'), ('باسم', 'NOUN-MS'), ('ال', 'DET'), (' وطن', 'NOUN-MS'), ('ال', 'DET'), (' عربي', 'ADJ-MS'), ('ب', 'PREP'), ('ال', 'DET'), (' إضاف ', 'NOUN'), ('ة', 'NSUFF-FS'), ('إلى', 'PREP'), ('ال', 'DET'), (' عديد', 'NOUN-MS'), ('من', 'PREP'), ('ال', 'DET'), (' مناطق', 'NOUN-MS'), ('ال', 'DET'), ('E', 'E')]\n",
      "[('S', 'S'), ('أخرى', 'NOUN-MS'), ('ال', 'DET'), (' مجاور ', 'ADJ'), ('ة', 'NSUFF-FD'), ('مثل', 'NOUN-MS'), ('ال', 'DET'), (' أهواز', 'NOUN-MS'), ('و', 'CONJ'), ('تركيا', 'NOUN-MS'), ('و', 'CONJ'), ('تشاد', 'NOUN-MS'), ('و', 'CONJ'), ('ال', 'DET'), (' سنغال', 'NOUN-MS'), ('و', 'CONJ'), ('إريتريا', 'NOUN-MS'), ('و', 'CONJ'), ('غير', 'NOUN-MS'), ('ها', 'PRON'), ('.', 'PUNC'), ('و', 'CONJ'), ('هي', 'PRON'), ('ال', 'DET'), (' لغ', 'NOUN-MS'), ('E', 'E')]\n",
      "[('S', 'S'), ('ة', 'NOUN-MS'), ('ال', 'DET'), (' رابع ', 'ADJ'), ('ة', 'NSUFF-FP'), ('من', 'PREP'), ('لغ ', 'NOUN'), ('ات', 'NSUFF-FP'), ('منظم ', 'NOUN'), ('ة', 'NSUFF-FS'), ('ال', 'DET'), (' أمم', 'NOUN-MS'), ('ال', 'DET'), (' متحد ', 'ADJ'), ('ة', 'NSUFF-FP'), ('ال', 'DET'), (' رسمي ', 'ADJ'), ('ة', 'NSUFF-FD'), ('ال', 'DET'), (' ست', 'NOUN-MS'), ('.', 'PUNC'), ('E', 'E')]\n"
     ]
    }
   ],
   "source": [
    "for txt in postagged_text.split('\\n'):\n",
    "    row_pos_tags = txt.split('/')\n",
    "    pos_tags = list()\n",
    "    for i, e in enumerate(row_pos_tags):\n",
    "        \n",
    "        if i == 0:\n",
    "            token = e\n",
    "        else:\n",
    "            pos_tag = e.split()[0]\n",
    "            tokens, poss = token.split('+'), pos_tag.split('+')\n",
    "            tokens = [t for t in tokens if t]\n",
    "            poss = [p for p in poss if p]\n",
    "            if len(tokens) == len(poss):\n",
    "                for ii in range(len(tokens)):\n",
    "                    pos_tags.append((tokens[ii], poss[ii]))\n",
    "            else:\n",
    "                print('error:',tokens, poss)\n",
    "            token = ' '.join(e.split()[1:])\n",
    "    print(pos_tags)"
   ]
  },
  {
   "cell_type": "code",
   "execution_count": 7,
   "id": "coral-fiction",
   "metadata": {},
   "outputs": [
    {
     "data": {
      "text/plain": [
       "'يشار/O إلى/O أن/O اللغة/O العربية/O يتحدثها/O أكثر/O من/O 422/O مليون/O نسمة/O ويتوزع/O متحدثوها/O\\nفي/O المنطقة/O المعروفة/O باسم/O الوطن/B-ORG العربي/I-ORG بالإضافة/O إلى/O العديد/O من/O المناطق/O ال/O\\nأخرى/O المجاورة/O مثل/O الأهواز/B-LOC وتركيا/B-LOC وتشاد/B-LOC والسنغال/B-LOC وإريتريا/B-LOC وغيرها/O ./O وهي/O اللغ/O\\nة/O الرابعة/O من/O لغات/O منظمة/B-ORG الأمم/I-ORG المتحدة/I-ORG الرسمية/O الست/O ./O'"
      ]
     },
     "execution_count": 7,
     "metadata": {},
     "output_type": "execute_result"
    }
   ],
   "source": [
    "namedEntityRecognizer = FarasaNamedEntityRecognizer()\n",
    "namedEntityRecognizer.recognize(sample)"
   ]
  },
  {
   "cell_type": "code",
   "execution_count": 8,
   "id": "substantial-repository",
   "metadata": {},
   "outputs": [
    {
     "data": {
      "text/plain": [
       "'أشار إلى أن لغة عربي تحدث أكثر من 422 مليون نسمة توزع متحدثوها\\nفي منطقة معروف اسم وطن عربي إضافة إلى عديد من منطقة ال\\nآخر مجاور مثل أهواز تركيا تشاد سنغال أريتريا غير . هي لغ\\nرابع من لغة منظمة أمة متحد رسمي ست .'"
      ]
     },
     "execution_count": 8,
     "metadata": {},
     "output_type": "execute_result"
    }
   ],
   "source": [
    "farasaStemmer = FarasaStemmer()\n",
    "farasaStemmer.stem(sample)"
   ]
  }
 ],
 "metadata": {
  "kernelspec": {
   "display_name": "Python 3",
   "language": "python",
   "name": "python3"
  },
  "language_info": {
   "codemirror_mode": {
    "name": "ipython",
    "version": 3
   },
   "file_extension": ".py",
   "mimetype": "text/x-python",
   "name": "python",
   "nbconvert_exporter": "python",
   "pygments_lexer": "ipython3",
   "version": "3.9.1"
  }
 },
 "nbformat": 4,
 "nbformat_minor": 5
}
