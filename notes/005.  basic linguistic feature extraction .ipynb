{
 "cells": [
  {
   "cell_type": "code",
   "execution_count": 1,
   "id": "insured-viewer",
   "metadata": {},
   "outputs": [],
   "source": [
    "from manzur_utils import pickle_reader"
   ]
  },
  {
   "cell_type": "code",
   "execution_count": 4,
   "id": "incoming-leadership",
   "metadata": {},
   "outputs": [],
   "source": [
    "from importlib import reload"
   ]
  },
  {
   "cell_type": "code",
   "execution_count": 6,
   "id": "romantic-stock",
   "metadata": {},
   "outputs": [
    {
     "name": "stdout",
     "output_type": "stream",
     "text": [
      "CPU times: user 3 µs, sys: 0 ns, total: 3 µs\n",
      "Wall time: 6.2 µs\n"
     ]
    }
   ],
   "source": [
    "reload(pickle_reader)\n",
    "%time\n",
    "posts, tags, categories = pickle_reader.read_preprocessed_data(13,8)"
   ]
  },
  {
   "cell_type": "code",
   "execution_count": null,
   "id": "genetic-button",
   "metadata": {},
   "outputs": [],
   "source": []
  }
 ],
 "metadata": {
  "kernelspec": {
   "display_name": "Python 3",
   "language": "python",
   "name": "python3"
  },
  "language_info": {
   "codemirror_mode": {
    "name": "ipython",
    "version": 3
   },
   "file_extension": ".py",
   "mimetype": "text/x-python",
   "name": "python",
   "nbconvert_exporter": "python",
   "pygments_lexer": "ipython3",
   "version": "3.9.1"
  }
 },
 "nbformat": 4,
 "nbformat_minor": 5
}
