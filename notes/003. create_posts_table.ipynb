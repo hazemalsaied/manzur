{
 "cells": [
  {
   "cell_type": "code",
   "execution_count": 1,
   "metadata": {
    "ExecuteTime": {
     "end_time": "2021-01-06T21:05:16.074774Z",
     "start_time": "2021-01-06T21:05:15.743223Z"
    }
   },
   "outputs": [],
   "source": [
    "import pandas as pd\n",
    "import pickle"
   ]
  },
  {
   "cell_type": "code",
   "execution_count": 12,
   "metadata": {
    "ExecuteTime": {
     "end_time": "2021-01-06T21:10:51.681462Z",
     "start_time": "2021-01-06T21:10:51.674819Z"
    }
   },
   "outputs": [],
   "source": [
    "pd.set_option('display.max_colwidth', 5000)"
   ]
  },
  {
   "cell_type": "code",
   "execution_count": 2,
   "metadata": {
    "ExecuteTime": {
     "end_time": "2021-01-06T21:06:12.316348Z",
     "start_time": "2021-01-06T21:06:11.813073Z"
    }
   },
   "outputs": [],
   "source": [
    "df = pd.read_pickle('/home/hazem/Projects/manzur/data/pickles/enabbaladi/posts_1_0.pkl')"
   ]
  },
  {
   "cell_type": "code",
   "execution_count": 4,
   "metadata": {
    "ExecuteTime": {
     "end_time": "2021-01-06T21:06:27.356582Z",
     "start_time": "2021-01-06T21:06:27.344441Z"
    }
   },
   "outputs": [
    {
     "data": {
      "text/plain": [
       "Index(['_links', 'amp_enabled', 'amp_validity', 'author', 'categories',\n",
       "       'comment_status', 'content', 'date', 'date_gmt', 'excerpt',\n",
       "       'featured_media', 'format', 'guid', 'id', 'jetpack-related-posts',\n",
       "       'jetpack_featured_media_url', 'jetpack_shortlink', 'link', 'meta',\n",
       "       'modified', 'modified_gmt', 'ping_status', 'slug', 'status', 'sticky',\n",
       "       'tags', 'template', 'title', 'type', 'yoast_head'],\n",
       "      dtype='object')"
      ]
     },
     "execution_count": 4,
     "metadata": {},
     "output_type": "execute_result"
    }
   ],
   "source": [
    "df.columns"
   ]
  },
  {
   "cell_type": "code",
   "execution_count": 40,
   "metadata": {
    "ExecuteTime": {
     "end_time": "2021-01-06T21:23:25.289542Z",
     "start_time": "2021-01-06T21:23:25.280980Z"
    }
   },
   "outputs": [
    {
     "data": {
      "text/plain": [
       "4040    <!-- This site is optimized with the Yoast SEO plugin v15.5 - https://yoast.com/wordpress/plugins/seo/ -->\\n<meta name=\"robots\" content=\"index, follow, max-snippet:-1, max-image-preview:large, max-video-preview:-1\" />\\n<link rel=\"canonical\" href=\"https://enabbaladi.net/archives/405196\" />\\n<meta property=\"og:locale\" content=\"ar_AR\" />\\n<meta property=\"og:type\" content=\"article\" />\\n<meta property=\"og:title\" content=\"لقمة صعبة يؤمنها محمد سطوف لأولاده من جمع النايلون - عنب بلدي\" />\\n<meta property=\"og:url\" content=\"https://enabbaladi.net/archives/405196\" />\\n<meta property=\"og:site_name\" content=\"عنب بلدي\" />\\n<meta property=\"article:publisher\" content=\"https://www.facebook.com/enab.baladi\" />\\n<meta property=\"article:published_time\" content=\"2020-07-28T08:24:04+00:00\" />\\n<meta property=\"article:modified_time\" content=\"2020-09-02T07:33:11+00:00\" />\\n<meta property=\"og:image\" content=\"https://cdn.enabbaladi.net/arabic/wp-content/uploads/2020/08/1.jpg\" />\\n\\t<meta property=\"og:image:width\" content=\"1500\" />\\n\\t<meta property=\"og:image:height\" content=\"900\" />\\n<meta name=\"twitter:card\" content=\"summary_large_image\" />\\n<meta name=\"twitter:creator\" content=\"@enabbaladi\" />\\n<meta name=\"twitter:site\" content=\"@enabbaladi\" />\\n<meta name=\"twitter:label1\" content=\"وقت القراءة المُقدّر\">\\n\\t<meta name=\"twitter:data1\" content=\"0 دقيقة\">\\n<script type=\"application/ld+json\" class=\"yoast-schema-graph\">{\"@context\":\"https://schema.org\",\"@graph\":[{\"@type\":\"Organization\",\"@id\":\"https://enabbaladi.net/#organization\",\"name\":\"\\u0639\\u0646\\u0628 \\u0628\\u0644\\u062f\\u064a\",\"url\":\"https://enabbaladi.net/\",\"sameAs\":[\"https://www.facebook.com/enab.baladi\",\"https://www.instagram.com/enabbaladi/\",\"https://www.linkedin.com/company/enab-baladi\",\"https://www.youtube.com/channel/UCfqSMELWF9cQPbiB74gYuWA\",\"https://twitter.com/enabbaladi\"],\"logo\":{\"@type\":\"ImageObject\",\"@id\":\"https://enabbaladi.net/#logo\",\"inLanguage\":\"ar\",\"url\":\"https://cdn.enabbaladi.net/arabic/wp-content/uploads/2012/01/Enab-baladi-Logo.jpg\",\"width\":4479,\"height\":4479,\"caption\":\"\\u0639\\u0646\\u0628 \\u0628\\u0644\\u062f\\u064a\"},\"image\":{\"@id\":\"https://enabbaladi.net/#logo\"}},{\"@type\":\"WebSite\",\"@id\":\"https://enabbaladi.net/#website\",\"url\":\"https://enabbaladi.net/\",\"name\":\"\\u0639\\u0646\\u0628 \\u0628\\u0644\\u062f\\u064a\",\"description\":\"\\u0645\\u0646 \\u0643\\u0631\\u0645 \\u0627\\u0644\\u062b\\u0648\\u0631\\u0629\",\"publisher\":{\"@id\":\"https://enabbaladi.net/#organization\"},\"potentialAction\":[{\"@type\":\"SearchAction\",\"target\":\"https://enabbaladi.net/?s={search_term_string}\",\"query-input\":\"required name=search_term_string\"}],\"inLanguage\":\"ar\"},{\"@type\":\"ImageObject\",\"@id\":\"https://enabbaladi.net/archives/405196#primaryimage\",\"inLanguage\":\"ar\",\"url\":\"https://cdn.enabbaladi.net/arabic/wp-content/uploads/2020/08/1.jpg\",\"width\":1500,\"height\":900},{\"@type\":\"WebPage\",\"@id\":\"https://enabbaladi.net/archives/405196#webpage\",\"url\":\"https://enabbaladi.net/archives/405196\",\"name\":\"\\u0644\\u0642\\u0645\\u0629 \\u0635\\u0639\\u0628\\u0629 \\u064a\\u0624\\u0645\\u0646\\u0647\\u0627 \\u0645\\u062d\\u0645\\u062f \\u0633\\u0637\\u0648\\u0641 \\u0644\\u0623\\u0648\\u0644\\u0627\\u062f\\u0647 \\u0645\\u0646 \\u062c\\u0645\\u0639 \\u0627\\u0644\\u0646\\u0627\\u064a\\u0644\\u0648\\u0646 - \\u0639\\u0646\\u0628 \\u0628\\u0644\\u062f\\u064a\",\"isPartOf\":{\"@id\":\"https://enabbaladi.net/#website\"},\"primaryImageOfPage\":{\"@id\":\"https://enabbaladi.net/archives/405196#primaryimage\"},\"datePublished\":\"2020-07-28T08:24:04+00:00\",\"dateModified\":\"2020-09-02T07:33:11+00:00\",\"inLanguage\":\"ar\",\"potentialAction\":[{\"@type\":\"ReadAction\",\"target\":[\"https://enabbaladi.net/archives/405196\"]}]},{\"@type\":\"Article\",\"@id\":\"https://enabbaladi.net/archives/405196#article\",\"isPartOf\":{\"@id\":\"https://enabbaladi.net/archives/405196#webpage\"},\"author\":{\"@id\":\"https://enabbaladi.net/#/schema/person/2cb7ab4db02d389a1bf9eea68d298d8f\"},\"headline\":\"\\u0644\\u0642\\u0645\\u0629 \\u0635\\u0639\\u0628\\u0629 \\u064a\\u0624\\u0645\\u0646\\u0647\\u0627 \\u0645\\u062d\\u0645\\u062f \\u0633\\u0637\\u0648\\u0641 \\u0644\\u0623\\u0648\\u0644\\u0627\\u062f\\u0647 \\u0645\\u0646 \\u062c\\u0645\\u0639 \\u0627\\u0644\\u0646\\u0627\\u064a\\u0644\\u0648\\u0646\",\"datePublished\":\"2020-07-28T08:24:04+00:00\",\"dateModified\":\"2020-09-02T07:33:11+00:00\",\"mainEntityOfPage\":{\"@id\":\"https://enabbaladi.net/archives/405196#webpage\"},\"publisher\":{\"@id\":\"https://enabbaladi.net/#organization\"},\"image\":{\"@id\":\"https://enabbaladi.net/archives/405196#primaryimage\"},\"keywords\":\"\\u0627\\u0644\\u0641\\u0642\\u0631 \\u0641\\u064a \\u0627\\u0644\\u0645\\u062e\\u064a\\u0645\\u0627\\u062a,\\u0627\\u0644\\u0641\\u0642\\u0631 \\u0641\\u064a \\u0633\\u0648\\u0631\\u064a\\u0627,\\u062c\\u0627\\u0645\\u0639 \\u0646\\u0627\\u064a\\u0644\\u0648\\u0646,\\u062c\\u0645\\u0639 \\u0627\\u0644\\u0646\\u0627\\u064a\\u0644\\u0648\\u0646,\\u062e\\u0637 \\u0627\\u0644\\u0641\\u0642\\u0631,\\u0642\\u0645\\u0627\\u0645\\u0629,\\u0645\\u062e\\u064a\\u0645\\u0627\\u062a \\u0627\\u0644\\u0634\\u0645\\u0627\\u0644 \\u0627\\u0644\\u0633\\u0648\\u0631\\u064a\",\"articleSection\":\"\\u0639\\u0646\\u0628 \\u0628\\u0644\\u062f\\u064a \\u0623\\u0648\\u0646\\u0644\\u0627\\u064a\\u0646,\\u0641\\u064a...\n",
       "Name: yoast_head, dtype: object"
      ]
     },
     "execution_count": 40,
     "metadata": {},
     "output_type": "execute_result"
    }
   ],
   "source": [
    "df['yoast_head'].sample()#value_counts()"
   ]
  },
  {
   "cell_type": "code",
   "execution_count": 7,
   "metadata": {
    "ExecuteTime": {
     "end_time": "2021-01-06T21:09:22.886502Z",
     "start_time": "2021-01-06T21:09:22.879078Z"
    }
   },
   "outputs": [
    {
     "name": "stdout",
     "output_type": "stream",
     "text": [
      "wp__links VARCHAR(255)\n",
      "wp_amp_enabled VARCHAR(255)\n",
      "wp_amp_validity VARCHAR(255)\n",
      "wp_author VARCHAR(255)\n",
      "wp_categories VARCHAR(255)\n",
      "wp_comment_status VARCHAR(255)\n",
      "wp_content VARCHAR(255)\n",
      "wp_date VARCHAR(255)\n",
      "wp_date_gmt VARCHAR(255)\n",
      "wp_excerpt VARCHAR(255)\n",
      "wp_featured_media VARCHAR(255)\n",
      "wp_format VARCHAR(255)\n",
      "wp_guid VARCHAR(255)\n",
      "wp_id VARCHAR(255)\n",
      "wp_jetpack-related-posts VARCHAR(255)\n",
      "wp_jetpack_featured_media_url VARCHAR(255)\n",
      "wp_jetpack_shortlink VARCHAR(255)\n",
      "wp_link VARCHAR(255)\n",
      "wp_meta VARCHAR(255)\n",
      "wp_modified VARCHAR(255)\n",
      "wp_modified_gmt VARCHAR(255)\n",
      "wp_ping_status VARCHAR(255)\n",
      "wp_slug VARCHAR(255)\n",
      "wp_status VARCHAR(255)\n",
      "wp_sticky VARCHAR(255)\n",
      "wp_tags VARCHAR(255)\n",
      "wp_template VARCHAR(255)\n",
      "wp_title VARCHAR(255)\n",
      "wp_type VARCHAR(255)\n",
      "wp_yoast_head VARCHAR(255)\n"
     ]
    }
   ],
   "source": [
    "for c in df.columns:\n",
    "    print(f'wp_{c} VARCHAR(255),')"
   ]
  }
 ],
 "metadata": {
  "hide_input": false,
  "kernelspec": {
   "display_name": "Python 3",
   "language": "python",
   "name": "python3"
  },
  "language_info": {
   "codemirror_mode": {
    "name": "ipython",
    "version": 3
   },
   "file_extension": ".py",
   "mimetype": "text/x-python",
   "name": "python",
   "nbconvert_exporter": "python",
   "pygments_lexer": "ipython3",
   "version": "3.8.5"
  },
  "toc": {
   "base_numbering": 1,
   "nav_menu": {},
   "number_sections": true,
   "sideBar": true,
   "skip_h1_title": false,
   "title_cell": "Table of Contents",
   "title_sidebar": "Contents",
   "toc_cell": false,
   "toc_position": {},
   "toc_section_display": true,
   "toc_window_display": false
  },
  "varInspector": {
   "cols": {
    "lenName": 16,
    "lenType": 16,
    "lenVar": 40
   },
   "kernels_config": {
    "python": {
     "delete_cmd_postfix": "",
     "delete_cmd_prefix": "del ",
     "library": "var_list.py",
     "varRefreshCmd": "print(var_dic_list())"
    },
    "r": {
     "delete_cmd_postfix": ") ",
     "delete_cmd_prefix": "rm(",
     "library": "var_list.r",
     "varRefreshCmd": "cat(var_dic_list()) "
    }
   },
   "types_to_exclude": [
    "module",
    "function",
    "builtin_function_or_method",
    "instance",
    "_Feature"
   ],
   "window_display": false
  }
 },
 "nbformat": 4,
 "nbformat_minor": 4
}
