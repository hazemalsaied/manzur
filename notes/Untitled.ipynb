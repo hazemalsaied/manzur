{
 "cells": [
  {
   "cell_type": "code",
   "execution_count": 53,
   "metadata": {
    "ExecuteTime": {
     "end_time": "2020-12-29T03:32:06.953791Z",
     "start_time": "2020-12-29T03:32:06.142735Z"
    }
   },
   "outputs": [],
   "source": [
    "import pandas as pd\n",
    "import pickle\n",
    "posts = pickle.load(open('posts.pkl', 'rb'))"
   ]
  },
  {
   "cell_type": "code",
   "execution_count": 54,
   "metadata": {
    "ExecuteTime": {
     "end_time": "2020-12-29T03:32:07.514199Z",
     "start_time": "2020-12-29T03:32:07.503354Z"
    }
   },
   "outputs": [
    {
     "data": {
      "text/plain": [
       "10400"
      ]
     },
     "execution_count": 54,
     "metadata": {},
     "output_type": "execute_result"
    }
   ],
   "source": [
    "len(posts)"
   ]
  },
  {
   "cell_type": "code",
   "execution_count": 18,
   "metadata": {
    "ExecuteTime": {
     "end_time": "2020-12-29T02:06:04.225477Z",
     "start_time": "2020-12-29T02:06:04.221626Z"
    }
   },
   "outputs": [],
   "source": [
    "pd.set_option(\"display.max_colwidth\", 250)\n"
   ]
  },
  {
   "cell_type": "code",
   "execution_count": 5,
   "metadata": {
    "ExecuteTime": {
     "end_time": "2020-12-29T02:00:30.746875Z",
     "start_time": "2020-12-29T02:00:30.743514Z"
    }
   },
   "outputs": [
    {
     "data": {
      "text/plain": [
       "Index(['_links', 'amp_enabled', 'amp_validity', 'author', 'categories',\n",
       "       'comment_status', 'content', 'date', 'date_gmt', 'excerpt',\n",
       "       'featured_media', 'format', 'guid', 'id', 'jetpack-related-posts',\n",
       "       'jetpack_featured_media_url', 'jetpack_shortlink', 'link', 'meta',\n",
       "       'modified', 'modified_gmt', 'ping_status', 'slug', 'status', 'sticky',\n",
       "       'tags', 'template', 'title', 'type', 'yoast_head'],\n",
       "      dtype='object')"
      ]
     },
     "execution_count": 5,
     "metadata": {},
     "output_type": "execute_result"
    }
   ],
   "source": [
    "posts.columns"
   ]
  },
  {
   "cell_type": "code",
   "execution_count": 44,
   "metadata": {
    "ExecuteTime": {
     "end_time": "2020-12-29T02:40:27.023847Z",
     "start_time": "2020-12-29T02:40:27.015001Z"
    }
   },
   "outputs": [
    {
     "data": {
      "text/plain": [
       "9400"
      ]
     },
     "execution_count": 44,
     "metadata": {},
     "output_type": "execute_result"
    }
   ],
   "source": [
    "len(posts)"
   ]
  },
  {
   "cell_type": "code",
   "execution_count": 48,
   "metadata": {
    "ExecuteTime": {
     "end_time": "2020-12-29T02:43:26.930134Z",
     "start_time": "2020-12-29T02:43:26.907382Z"
    }
   },
   "outputs": [
    {
     "data": {
      "text/html": [
       "<div>\n",
       "<style scoped>\n",
       "    .dataframe tbody tr th:only-of-type {\n",
       "        vertical-align: middle;\n",
       "    }\n",
       "\n",
       "    .dataframe tbody tr th {\n",
       "        vertical-align: top;\n",
       "    }\n",
       "\n",
       "    .dataframe thead th {\n",
       "        text-align: right;\n",
       "    }\n",
       "</style>\n",
       "<table border=\"1\" class=\"dataframe\">\n",
       "  <thead>\n",
       "    <tr style=\"text-align: right;\">\n",
       "      <th></th>\n",
       "      <th>date</th>\n",
       "    </tr>\n",
       "  </thead>\n",
       "  <tbody>\n",
       "    <tr>\n",
       "      <th>9390</th>\n",
       "      <td>2020-01-16T15:17:16</td>\n",
       "    </tr>\n",
       "    <tr>\n",
       "      <th>9391</th>\n",
       "      <td>2020-01-16T12:44:14</td>\n",
       "    </tr>\n",
       "    <tr>\n",
       "      <th>9392</th>\n",
       "      <td>2020-01-16T12:37:19</td>\n",
       "    </tr>\n",
       "    <tr>\n",
       "      <th>9393</th>\n",
       "      <td>2020-01-16T12:05:35</td>\n",
       "    </tr>\n",
       "    <tr>\n",
       "      <th>9394</th>\n",
       "      <td>2020-01-16T11:40:59</td>\n",
       "    </tr>\n",
       "    <tr>\n",
       "      <th>9395</th>\n",
       "      <td>2020-01-16T10:59:39</td>\n",
       "    </tr>\n",
       "    <tr>\n",
       "      <th>9396</th>\n",
       "      <td>2020-01-15T18:22:22</td>\n",
       "    </tr>\n",
       "    <tr>\n",
       "      <th>9397</th>\n",
       "      <td>2020-01-15T18:04:09</td>\n",
       "    </tr>\n",
       "    <tr>\n",
       "      <th>9398</th>\n",
       "      <td>2020-01-15T17:43:27</td>\n",
       "    </tr>\n",
       "    <tr>\n",
       "      <th>9399</th>\n",
       "      <td>2020-01-15T16:59:51</td>\n",
       "    </tr>\n",
       "  </tbody>\n",
       "</table>\n",
       "</div>"
      ],
      "text/plain": [
       "                     date\n",
       "9390  2020-01-16T15:17:16\n",
       "9391  2020-01-16T12:44:14\n",
       "9392  2020-01-16T12:37:19\n",
       "9393  2020-01-16T12:05:35\n",
       "9394  2020-01-16T11:40:59\n",
       "9395  2020-01-16T10:59:39\n",
       "9396  2020-01-15T18:22:22\n",
       "9397  2020-01-15T18:04:09\n",
       "9398  2020-01-15T17:43:27\n",
       "9399  2020-01-15T16:59:51"
      ]
     },
     "execution_count": 48,
     "metadata": {},
     "output_type": "execute_result"
    }
   ],
   "source": [
    "posts.tail(10)[['date']]"
   ]
  }
 ],
 "metadata": {
  "hide_input": false,
  "kernelspec": {
   "display_name": "Python 3",
   "language": "python",
   "name": "python3"
  },
  "language_info": {
   "codemirror_mode": {
    "name": "ipython",
    "version": 3
   },
   "file_extension": ".py",
   "mimetype": "text/x-python",
   "name": "python",
   "nbconvert_exporter": "python",
   "pygments_lexer": "ipython3",
   "version": "3.8.5"
  },
  "toc": {
   "base_numbering": 1,
   "nav_menu": {},
   "number_sections": true,
   "sideBar": true,
   "skip_h1_title": false,
   "title_cell": "Table of Contents",
   "title_sidebar": "Contents",
   "toc_cell": false,
   "toc_position": {},
   "toc_section_display": true,
   "toc_window_display": false
  },
  "varInspector": {
   "cols": {
    "lenName": 16,
    "lenType": 16,
    "lenVar": 40
   },
   "kernels_config": {
    "python": {
     "delete_cmd_postfix": "",
     "delete_cmd_prefix": "del ",
     "library": "var_list.py",
     "varRefreshCmd": "print(var_dic_list())"
    },
    "r": {
     "delete_cmd_postfix": ") ",
     "delete_cmd_prefix": "rm(",
     "library": "var_list.r",
     "varRefreshCmd": "cat(var_dic_list()) "
    }
   },
   "types_to_exclude": [
    "module",
    "function",
    "builtin_function_or_method",
    "instance",
    "_Feature"
   ],
   "window_display": false
  }
 },
 "nbformat": 4,
 "nbformat_minor": 4
}
