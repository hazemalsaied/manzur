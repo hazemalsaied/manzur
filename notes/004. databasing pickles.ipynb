{
 "cells": [
  {
   "cell_type": "code",
   "execution_count": 1,
   "id": "gross-store",
   "metadata": {},
   "outputs": [],
   "source": [
    "from manzur_utils import pickle_reader"
   ]
  },
  {
   "cell_type": "code",
   "execution_count": 2,
   "id": "coral-default",
   "metadata": {},
   "outputs": [],
   "source": [
    "from importlib import reload\n",
    "reload(pickle_reader)\n",
    "posts, tags, categories = pickle_reader.read_all_data(13, 8)"
   ]
  },
  {
   "cell_type": "code",
   "execution_count": 7,
   "id": "muslim-thomas",
   "metadata": {},
   "outputs": [],
   "source": [
    "posts['grouping_date'] = posts['date_gmt'].apply(lambda x:x[:7])"
   ]
  },
  {
   "cell_type": "code",
   "execution_count": 8,
   "id": "valued-burke",
   "metadata": {},
   "outputs": [],
   "source": [
    "from manzur_utils import plot_factory"
   ]
  },
  {
   "cell_type": "code",
   "execution_count": 20,
   "id": "dried-directive",
   "metadata": {},
   "outputs": [
    {
     "data": {
      "text/plain": [
       "<module 'manzur_utils.plot_factory' from '/Users/hazem/Documents/manzur/manzur_utils/manzur_utils/plot_factory.py'>"
      ]
     },
     "execution_count": 20,
     "metadata": {},
     "output_type": "execute_result"
    }
   ],
   "source": [
    "reload(pickle_reader)\n",
    "reload(plot_factory)"
   ]
  },
  {
   "cell_type": "code",
   "execution_count": 54,
   "id": "super-equilibrium",
   "metadata": {},
   "outputs": [
    {
     "data": {
      "image/png": "[encoded data removed]",
      "text/plain": [
       "<Figure size 720x720 with 1 Axes>"
      ]
     },
     "metadata": {
      "needs_background": "light"
     },
     "output_type": "display_data"
    }
   ],
   "source": [
    "plot_factory.plot_abstract_category(posts)"
   ]
  },
  {
   "cell_type": "code",
   "execution_count": 22,
   "id": "increased-dialogue",
   "metadata": {},
   "outputs": [
    {
     "data": {
      "text/plain": [
       "24051"
      ]
     },
     "execution_count": 22,
     "metadata": {},
     "output_type": "execute_result"
    }
   ],
   "source": [
    "len(posts[(posts['abstract_cats'] == '')])"
   ]
  },
  {
   "cell_type": "code",
   "execution_count": 24,
   "id": "controversial-modern",
   "metadata": {},
   "outputs": [
    {
     "data": {
      "text/plain": [
       "{'48': {'name': 'Translated Articles', 'count': 235},\n",
       " '11385': {'name': 'أجهزة', 'count': 280},\n",
       " '10981': {'name': 'أخبار منوعة', 'count': 1023},\n",
       " '11378': {'name': 'أخبار وتقارير اقتصادية', 'count': 3009},\n",
       " '11374': {'name': 'أخبار وقرارات', 'count': 1909},\n",
       " '53': {'name': 'أسرة وتربية', 'count': 223},\n",
       " '1183': {'name': 'أعداد الجريدة', 'count': 473},\n",
       " '43657': {'name': 'أفلام ومسلسلات', 'count': 356},\n",
       " '11376': {'name': 'أنشطة وفعاليات', 'count': 307},\n",
       " '47304': {'name': 'إعلان تحريري', 'count': 29},\n",
       " '27': {'name': 'إنترنت', 'count': 290},\n",
       " '1208': {'name': 'استطلاعات الرأي', 'count': 75},\n",
       " '1039': {'name': 'اقتصاد', 'count': 708},\n",
       " '1045': {'name': 'الجريدة المطبوعة', 'count': 9369},\n",
       " '89388': {'name': 'المساكن والأراضي والممتلكات', 'count': 471},\n",
       " '51763': {'name': 'المنح والبرامج', 'count': 37},\n",
       " '82228': {'name': 'انفوغراف', 'count': 49},\n",
       " '89793': {'name': 'بيئة ومناخ', 'count': 82},\n",
       " '6813': {'name': 'تحقيقات', 'count': 290},\n",
       " '11386': {'name': 'تطبيقات وبرامج', 'count': 420},\n",
       " '43658': {'name': 'تعليم', 'count': 341},\n",
       " '11379': {'name': 'تقارير اقتصادية', 'count': 814},\n",
       " '11383': {'name': 'تكنولوجيا', 'count': 80},\n",
       " '11381': {'name': 'تنمية بشرية', 'count': 37},\n",
       " '11384': {'name': 'تواصل اجتماعي', 'count': 212},\n",
       " '89389': {'name': 'حريات صحفية', 'count': 135},\n",
       " '89387': {'name': 'حقوق الإنسان', 'count': 154},\n",
       " '11377': {'name': 'حياة اللاجئين', 'count': 942},\n",
       " '54076': {'name': 'خدمات', 'count': 19},\n",
       " '89789': {'name': 'خدمات محلية', 'count': 209},\n",
       " '1040': {'name': 'دولي', 'count': 7206},\n",
       " '1041': {'name': 'رأي', 'count': 995},\n",
       " '5235': {'name': 'رياضة', 'count': 88},\n",
       " '11511': {'name': 'رياضة دولية', 'count': 1986},\n",
       " '11510': {'name': 'رياضة محلية', 'count': 556},\n",
       " '66': {'name': 'سوريا', 'count': 24305},\n",
       " '11373': {'name': 'سوريون في الخارج', 'count': 71},\n",
       " '89790': {'name': 'سياحة وسفر', 'count': 39},\n",
       " '31': {'name': 'سياسة', 'count': 732},\n",
       " '23': {'name': 'شهداء داريا', 'count': 29},\n",
       " '11734': {'name': 'صحافة عربية', 'count': 937},\n",
       " '1834': {'name': 'صحافة غربية', 'count': 207},\n",
       " '5763': {'name': 'صحة وتغذية', 'count': 987},\n",
       " '11512': {'name': 'عملات ومعادن', 'count': 134},\n",
       " '51762': {'name': 'عن مارس', 'count': 1},\n",
       " '613': {'name': 'عنب بلدي أونلاين', 'count': 49278},\n",
       " '382': {'name': 'عنب بلدي في الإعلام', 'count': 18},\n",
       " '1': {'name': 'غير مصنف', 'count': 2},\n",
       " '70035': {'name': 'فرص ومنح', 'count': 158},\n",
       " '14': {'name': 'فعاليات ونشاطات', 'count': 786},\n",
       " '1043': {'name': 'فكر وأدب', 'count': 791},\n",
       " '11387': {'name': 'فن وثقافة', 'count': 866},\n",
       " '381': {'name': 'في العمق', 'count': 464},\n",
       " '52951': {'name': 'في تركيا', 'count': 439},\n",
       " '2853': {'name': 'فيديو', 'count': 3269},\n",
       " '11': {'name': 'قراء', 'count': 155},\n",
       " '73564': {'name': 'قصص مصورة', 'count': 16},\n",
       " '11375': {'name': 'قصص نجاح', 'count': 113},\n",
       " '47116': {'name': 'كأس العالم 2018', 'count': 212},\n",
       " '42554': {'name': 'كاريكاتير', 'count': 26},\n",
       " '386': {'name': 'كتب', 'count': 342},\n",
       " '70': {'name': 'لقاءات', 'count': 87},\n",
       " '50952': {'name': 'مارس', 'count': 1},\n",
       " '54077': {'name': 'مجالس محلية', 'count': 325},\n",
       " '389': {'name': 'مجتمع', 'count': 2085},\n",
       " '95029': {'name': 'مصطلحات', 'count': 3},\n",
       " '11380': {'name': 'مصطلحات اقتصادية', 'count': 68},\n",
       " '95031': {'name': 'مصطلحات رياضية', 'count': 7},\n",
       " '95030': {'name': 'مصطلحات عقارية', 'count': 25},\n",
       " '6': {'name': 'معتقلون وسجون', 'count': 353},\n",
       " '10821': {'name': 'معرض الصور', 'count': 942},\n",
       " '28563': {'name': 'مقالات الرأي', 'count': 1015},\n",
       " '13': {'name': 'ملاحق ومنشورات', 'count': 141},\n",
       " '11357': {'name': 'ملتيميديا', 'count': 1},\n",
       " '89769': {'name': 'ملفات', 'count': 21},\n",
       " '51764': {'name': 'منصة المتدربين', 'count': 93},\n",
       " '54078': {'name': 'منظمات مجتمع مدني', 'count': 674},\n",
       " '34': {'name': 'منوعات', 'count': 5},\n",
       " '56383': {'name': 'ميديا', 'count': 75},\n",
       " '1042': {'name': 'ناس', 'count': 6}}"
      ]
     },
     "execution_count": 24,
     "metadata": {},
     "output_type": "execute_result"
    }
   ],
   "source": [
    "categories"
   ]
  },
  {
   "cell_type": "code",
   "execution_count": 26,
   "id": "infectious-furniture",
   "metadata": {},
   "outputs": [
    {
     "data": {
      "text/plain": [
       "سوريا|عنب بلدي أونلاين                  21066\n",
       "الجريدة المطبوعة|سوريا                   1350\n",
       "سوريا                                     669\n",
       "أعداد الجريدة|الجريدة المطبوعة            258\n",
       "Translated Articles                       234\n",
       "أعداد الجريدة                             200\n",
       "قراء                                       84\n",
       "عنب بلدي أونلاين                           51\n",
       "الجريدة المطبوعة|انفوغراف                  47\n",
       "إعلان تحريري|عنب بلدي أونلاين              26\n",
       "الجريدة المطبوعة|قراء                      23\n",
       "عنب بلدي في الإعلام                        14\n",
       "الجريدة المطبوعة                           10\n",
       "أعداد الجريدة|عنب بلدي أونلاين              6\n",
       "عنب بلدي أونلاين|عنب بلدي في الإعلام        4\n",
       "عنب بلدي أونلاين|مصطلحات                    3\n",
       "عنب بلدي أونلاين|قراء                       2\n",
       "عنب بلدي أونلاين|غير مصنف                   2\n",
       "انفوغراف|عنب بلدي أونلاين                   1\n",
       "الجريدة المطبوعة|عن مارس                    1\n",
       "Name: categories_str, dtype: int64"
      ]
     },
     "execution_count": 26,
     "metadata": {},
     "output_type": "execute_result"
    }
   ],
   "source": [
    "posts[(posts['abstract_cats'] == '')]['categories_str'].value_counts()"
   ]
  },
  {
   "cell_type": "code",
   "execution_count": null,
   "id": "preceding-trigger",
   "metadata": {},
   "outputs": [],
   "source": []
  }
 ],
 "metadata": {
  "kernelspec": {
   "display_name": "Python 3",
   "language": "python",
   "name": "python3"
  },
  "language_info": {
   "codemirror_mode": {
    "name": "ipython",
    "version": 3
   },
   "file_extension": ".py",
   "mimetype": "text/x-python",
   "name": "python",
   "nbconvert_exporter": "python",
   "pygments_lexer": "ipython3",
   "version": "3.9.1"
  }
 },
 "nbformat": 4,
 "nbformat_minor": 5
}
